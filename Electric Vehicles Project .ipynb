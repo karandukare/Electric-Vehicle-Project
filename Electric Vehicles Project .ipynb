{
 "cells": [
  {
   "cell_type": "markdown",
   "id": "9052131e",
   "metadata": {},
   "source": [
    "# 🔹Electric Vehicles Market Analysis🔹"
   ]
  },
  {
   "cell_type": "code",
   "execution_count": 16,
   "id": "db0a922e",
   "metadata": {},
   "outputs": [],
   "source": [
    "import pandas as pd\n",
    "import numpy as np\n",
    "import matplotlib.pyplot as plt\n",
    "import seaborn as sns\n",
    "from scipy.stats import ttest_ind"
   ]
  },
  {
   "cell_type": "code",
   "execution_count": 2,
   "id": "b2fd2d8b",
   "metadata": {
    "scrolled": true
   },
   "outputs": [
    {
     "data": {
      "text/html": [
       "<div>\n",
       "<style scoped>\n",
       "    .dataframe tbody tr th:only-of-type {\n",
       "        vertical-align: middle;\n",
       "    }\n",
       "\n",
       "    .dataframe tbody tr th {\n",
       "        vertical-align: top;\n",
       "    }\n",
       "\n",
       "    .dataframe thead th {\n",
       "        text-align: right;\n",
       "    }\n",
       "</style>\n",
       "<table border=\"1\" class=\"dataframe\">\n",
       "  <thead>\n",
       "    <tr style=\"text-align: right;\">\n",
       "      <th></th>\n",
       "      <th>Car full name</th>\n",
       "      <th>Make</th>\n",
       "      <th>Model</th>\n",
       "      <th>Minimal price (gross) [PLN]</th>\n",
       "      <th>Engine power [KM]</th>\n",
       "      <th>Maximum torque [Nm]</th>\n",
       "      <th>Type of brakes</th>\n",
       "      <th>Drive type</th>\n",
       "      <th>Battery capacity [kWh]</th>\n",
       "      <th>Range (WLTP) [km]</th>\n",
       "      <th>...</th>\n",
       "      <th>Permissable gross weight [kg]</th>\n",
       "      <th>Maximum load capacity [kg]</th>\n",
       "      <th>Number of seats</th>\n",
       "      <th>Number of doors</th>\n",
       "      <th>Tire size [in]</th>\n",
       "      <th>Maximum speed [kph]</th>\n",
       "      <th>Boot capacity (VDA) [l]</th>\n",
       "      <th>Acceleration 0-100 kph [s]</th>\n",
       "      <th>Maximum DC charging power [kW]</th>\n",
       "      <th>mean - Energy consumption [kWh/100 km]</th>\n",
       "    </tr>\n",
       "  </thead>\n",
       "  <tbody>\n",
       "    <tr>\n",
       "      <th>0</th>\n",
       "      <td>Audi e-tron 55 quattro</td>\n",
       "      <td>Audi</td>\n",
       "      <td>e-tron 55 quattro</td>\n",
       "      <td>345700</td>\n",
       "      <td>360</td>\n",
       "      <td>664</td>\n",
       "      <td>disc (front + rear)</td>\n",
       "      <td>4WD</td>\n",
       "      <td>95.0</td>\n",
       "      <td>438</td>\n",
       "      <td>...</td>\n",
       "      <td>3130.0</td>\n",
       "      <td>640.0</td>\n",
       "      <td>5</td>\n",
       "      <td>5</td>\n",
       "      <td>19</td>\n",
       "      <td>200</td>\n",
       "      <td>660.0</td>\n",
       "      <td>5.7</td>\n",
       "      <td>150</td>\n",
       "      <td>24.45</td>\n",
       "    </tr>\n",
       "    <tr>\n",
       "      <th>1</th>\n",
       "      <td>Audi e-tron 50 quattro</td>\n",
       "      <td>Audi</td>\n",
       "      <td>e-tron 50 quattro</td>\n",
       "      <td>308400</td>\n",
       "      <td>313</td>\n",
       "      <td>540</td>\n",
       "      <td>disc (front + rear)</td>\n",
       "      <td>4WD</td>\n",
       "      <td>71.0</td>\n",
       "      <td>340</td>\n",
       "      <td>...</td>\n",
       "      <td>3040.0</td>\n",
       "      <td>670.0</td>\n",
       "      <td>5</td>\n",
       "      <td>5</td>\n",
       "      <td>19</td>\n",
       "      <td>190</td>\n",
       "      <td>660.0</td>\n",
       "      <td>6.8</td>\n",
       "      <td>150</td>\n",
       "      <td>23.80</td>\n",
       "    </tr>\n",
       "    <tr>\n",
       "      <th>2</th>\n",
       "      <td>Audi e-tron S quattro</td>\n",
       "      <td>Audi</td>\n",
       "      <td>e-tron S quattro</td>\n",
       "      <td>414900</td>\n",
       "      <td>503</td>\n",
       "      <td>973</td>\n",
       "      <td>disc (front + rear)</td>\n",
       "      <td>4WD</td>\n",
       "      <td>95.0</td>\n",
       "      <td>364</td>\n",
       "      <td>...</td>\n",
       "      <td>3130.0</td>\n",
       "      <td>565.0</td>\n",
       "      <td>5</td>\n",
       "      <td>5</td>\n",
       "      <td>20</td>\n",
       "      <td>210</td>\n",
       "      <td>660.0</td>\n",
       "      <td>4.5</td>\n",
       "      <td>150</td>\n",
       "      <td>27.55</td>\n",
       "    </tr>\n",
       "    <tr>\n",
       "      <th>3</th>\n",
       "      <td>Audi e-tron Sportback 50 quattro</td>\n",
       "      <td>Audi</td>\n",
       "      <td>e-tron Sportback 50 quattro</td>\n",
       "      <td>319700</td>\n",
       "      <td>313</td>\n",
       "      <td>540</td>\n",
       "      <td>disc (front + rear)</td>\n",
       "      <td>4WD</td>\n",
       "      <td>71.0</td>\n",
       "      <td>346</td>\n",
       "      <td>...</td>\n",
       "      <td>3040.0</td>\n",
       "      <td>640.0</td>\n",
       "      <td>5</td>\n",
       "      <td>5</td>\n",
       "      <td>19</td>\n",
       "      <td>190</td>\n",
       "      <td>615.0</td>\n",
       "      <td>6.8</td>\n",
       "      <td>150</td>\n",
       "      <td>23.30</td>\n",
       "    </tr>\n",
       "    <tr>\n",
       "      <th>4</th>\n",
       "      <td>Audi e-tron Sportback 55 quattro</td>\n",
       "      <td>Audi</td>\n",
       "      <td>e-tron Sportback 55 quattro</td>\n",
       "      <td>357000</td>\n",
       "      <td>360</td>\n",
       "      <td>664</td>\n",
       "      <td>disc (front + rear)</td>\n",
       "      <td>4WD</td>\n",
       "      <td>95.0</td>\n",
       "      <td>447</td>\n",
       "      <td>...</td>\n",
       "      <td>3130.0</td>\n",
       "      <td>670.0</td>\n",
       "      <td>5</td>\n",
       "      <td>5</td>\n",
       "      <td>19</td>\n",
       "      <td>200</td>\n",
       "      <td>615.0</td>\n",
       "      <td>5.7</td>\n",
       "      <td>150</td>\n",
       "      <td>23.85</td>\n",
       "    </tr>\n",
       "  </tbody>\n",
       "</table>\n",
       "<p>5 rows × 25 columns</p>\n",
       "</div>"
      ],
      "text/plain": [
       "                      Car full name  Make                        Model  \\\n",
       "0            Audi e-tron 55 quattro  Audi            e-tron 55 quattro   \n",
       "1            Audi e-tron 50 quattro  Audi            e-tron 50 quattro   \n",
       "2             Audi e-tron S quattro  Audi             e-tron S quattro   \n",
       "3  Audi e-tron Sportback 50 quattro  Audi  e-tron Sportback 50 quattro   \n",
       "4  Audi e-tron Sportback 55 quattro  Audi  e-tron Sportback 55 quattro   \n",
       "\n",
       "   Minimal price (gross) [PLN]  Engine power [KM]  Maximum torque [Nm]  \\\n",
       "0                       345700                360                  664   \n",
       "1                       308400                313                  540   \n",
       "2                       414900                503                  973   \n",
       "3                       319700                313                  540   \n",
       "4                       357000                360                  664   \n",
       "\n",
       "        Type of brakes Drive type  Battery capacity [kWh]  Range (WLTP) [km]  \\\n",
       "0  disc (front + rear)        4WD                    95.0                438   \n",
       "1  disc (front + rear)        4WD                    71.0                340   \n",
       "2  disc (front + rear)        4WD                    95.0                364   \n",
       "3  disc (front + rear)        4WD                    71.0                346   \n",
       "4  disc (front + rear)        4WD                    95.0                447   \n",
       "\n",
       "   ...  Permissable gross weight [kg]  Maximum load capacity [kg]  \\\n",
       "0  ...                         3130.0                       640.0   \n",
       "1  ...                         3040.0                       670.0   \n",
       "2  ...                         3130.0                       565.0   \n",
       "3  ...                         3040.0                       640.0   \n",
       "4  ...                         3130.0                       670.0   \n",
       "\n",
       "   Number of seats  Number of doors  Tire size [in]  Maximum speed [kph]  \\\n",
       "0                5                5              19                  200   \n",
       "1                5                5              19                  190   \n",
       "2                5                5              20                  210   \n",
       "3                5                5              19                  190   \n",
       "4                5                5              19                  200   \n",
       "\n",
       "   Boot capacity (VDA) [l]  Acceleration 0-100 kph [s]  \\\n",
       "0                    660.0                         5.7   \n",
       "1                    660.0                         6.8   \n",
       "2                    660.0                         4.5   \n",
       "3                    615.0                         6.8   \n",
       "4                    615.0                         5.7   \n",
       "\n",
       "   Maximum DC charging power [kW]  mean - Energy consumption [kWh/100 km]  \n",
       "0                             150                                   24.45  \n",
       "1                             150                                   23.80  \n",
       "2                             150                                   27.55  \n",
       "3                             150                                   23.30  \n",
       "4                             150                                   23.85  \n",
       "\n",
       "[5 rows x 25 columns]"
      ]
     },
     "execution_count": 2,
     "metadata": {},
     "output_type": "execute_result"
    }
   ],
   "source": [
    "df = pd.read_excel(\"FEV-data-Excel.xlsx\")\n",
    "df.head()"
   ]
  },
  {
   "cell_type": "markdown",
   "id": "4254f5e5",
   "metadata": {},
   "source": [
    "# 🔹 Task 1: Budget Filter and Grouping"
   ]
  },
  {
   "cell_type": "code",
   "execution_count": 3,
   "id": "f8509c47",
   "metadata": {},
   "outputs": [
    {
     "name": "stdout",
     "output_type": "stream",
     "text": [
      "Make\n",
      "Audi             95.000000\n",
      "BMW              80.000000\n",
      "Mercedes-Benz    80.000000\n",
      "Volkswagen       70.666667\n",
      "Tesla            68.000000\n",
      "Hyundai          64.000000\n",
      "Kia              64.000000\n",
      "Name: Battery capacity [kWh], dtype: float64\n"
     ]
    }
   ],
   "source": [
    "# Task 1a: Filter EVs with price <= 350,000 PLN and range >= 400 km\n",
    "filtered_df = df[(df['Minimal price (gross) [PLN]'] <= 350000) & (df['Range (WLTP) [km]'] >= 400)]\n",
    "\n",
    "# Task 1b: Group by manufacturer\n",
    "grouped = filtered_df.groupby('Make')\n",
    "\n",
    "# Task 1c: Calculate average battery capacity for each manufacturer\n",
    "avg_battery = grouped['Battery capacity [kWh]'].mean().sort_values(ascending=False)\n",
    "print(avg_battery)\n"
   ]
  },
  {
   "cell_type": "markdown",
   "id": "53192b90",
   "metadata": {},
   "source": [
    "# 🔹 Task 2: Detect Outliers in Energy Consumption"
   ]
  },
  {
   "cell_type": "code",
   "execution_count": 15,
   "id": "bd4c59de",
   "metadata": {},
   "outputs": [
    {
     "name": "stdout",
     "output_type": "stream",
     "text": [
      "Empty DataFrame\n",
      "Columns: [Car full name, mean - Energy consumption [kWh/100 km]]\n",
      "Index: []\n"
     ]
    }
   ],
   "source": [
    "# Task 2: Detect Outliers in Energy Consumption\n",
    "\n",
    "# Use the correct column name as printed: 'mean - Energy consumption [kWh/100 km]'\n",
    "energy = df['mean - Energy consumption [kWh/100 km]']\n",
    "\n",
    "# Calculate IQR (Interquartile Range)\n",
    "Q1 = energy.quantile(0.25)\n",
    "Q3 = energy.quantile(0.75)\n",
    "IQR = Q3 - Q1\n",
    "\n",
    "# Define lower and upper bounds\n",
    "lower_bound = Q1 - 1.5 * IQR\n",
    "upper_bound = Q3 + 1.5 * IQR\n",
    "\n",
    "# Filter out the outliers\n",
    "outliers = df[(energy < lower_bound) | (energy > upper_bound)]\n",
    "\n",
    "# Show the outlier EVs with their energy consumption\n",
    "print(outliers[['Car full name', 'mean - Energy consumption [kWh/100 km]']])\n"
   ]
  },
  {
   "cell_type": "markdown",
   "id": "edd611db",
   "metadata": {},
   "source": [
    "# 🔹 Task 3: Relationship between Battery Capacity and Range"
   ]
  },
  {
   "cell_type": "code",
   "execution_count": 9,
   "id": "9af361a3",
   "metadata": {},
   "outputs": [
    {
     "data": {
      "image/png": "[encoded data removed]",
      "text/plain": [
       "<Figure size 1000x600 with 1 Axes>"
      ]
     },
     "metadata": {},
     "output_type": "display_data"
    }
   ],
   "source": [
    "# Task 3a: Scatter Plot\n",
    "plt.figure(figsize=(10, 6))\n",
    "sns.scatterplot(data=df, x='Battery capacity [kWh]', y='Range (WLTP) [km]', hue='Make')\n",
    "plt.title(\"Battery Capacity vs Range\")\n",
    "plt.xlabel(\"Battery Capacity (kWh)\")\n",
    "plt.ylabel(\"Range (WLTP) in km\")\n",
    "plt.grid(True)\n",
    "plt.show()\n",
    "\n",
    "# Task 3b: Insight\n",
    "# Usually, as battery capacity increases, the range also increases.\n"
   ]
  },
  {
   "cell_type": "markdown",
   "id": "05da207b",
   "metadata": {},
   "source": [
    "# 🔹 Task 4: EV Recommendation Class"
   ]
  },
  {
   "cell_type": "code",
   "execution_count": 10,
   "id": "8b150bda",
   "metadata": {},
   "outputs": [
    {
     "data": {
      "text/html": [
       "<div>\n",
       "<style scoped>\n",
       "    .dataframe tbody tr th:only-of-type {\n",
       "        vertical-align: middle;\n",
       "    }\n",
       "\n",
       "    .dataframe tbody tr th {\n",
       "        vertical-align: top;\n",
       "    }\n",
       "\n",
       "    .dataframe thead th {\n",
       "        text-align: right;\n",
       "    }\n",
       "</style>\n",
       "<table border=\"1\" class=\"dataframe\">\n",
       "  <thead>\n",
       "    <tr style=\"text-align: right;\">\n",
       "      <th></th>\n",
       "      <th>Car full name</th>\n",
       "      <th>Make</th>\n",
       "      <th>Minimal price (gross) [PLN]</th>\n",
       "      <th>Battery capacity [kWh]</th>\n",
       "      <th>Range (WLTP) [km]</th>\n",
       "    </tr>\n",
       "  </thead>\n",
       "  <tbody>\n",
       "    <tr>\n",
       "      <th>8</th>\n",
       "      <td>BMW iX3</td>\n",
       "      <td>BMW</td>\n",
       "      <td>282900</td>\n",
       "      <td>80.0</td>\n",
       "      <td>460</td>\n",
       "    </tr>\n",
       "    <tr>\n",
       "      <th>15</th>\n",
       "      <td>Hyundai Kona electric 64kWh</td>\n",
       "      <td>Hyundai</td>\n",
       "      <td>178400</td>\n",
       "      <td>64.0</td>\n",
       "      <td>449</td>\n",
       "    </tr>\n",
       "    <tr>\n",
       "      <th>18</th>\n",
       "      <td>Kia e-Niro 64kWh</td>\n",
       "      <td>Kia</td>\n",
       "      <td>167990</td>\n",
       "      <td>64.0</td>\n",
       "      <td>455</td>\n",
       "    </tr>\n",
       "  </tbody>\n",
       "</table>\n",
       "</div>"
      ],
      "text/plain": [
       "                  Car full name     Make  Minimal price (gross) [PLN]  \\\n",
       "8                       BMW iX3      BMW                       282900   \n",
       "15  Hyundai Kona electric 64kWh  Hyundai                       178400   \n",
       "18             Kia e-Niro 64kWh      Kia                       167990   \n",
       "\n",
       "    Battery capacity [kWh]  Range (WLTP) [km]  \n",
       "8                     80.0                460  \n",
       "15                    64.0                449  \n",
       "18                    64.0                455  "
      ]
     },
     "execution_count": 10,
     "metadata": {},
     "output_type": "execute_result"
    }
   ],
   "source": [
    "class EVRecommender:\n",
    "    def __init__(self, df):\n",
    "        self.df = df\n",
    "\n",
    "    def recommend(self, budget, min_range, min_battery):\n",
    "        result = self.df[\n",
    "            (self.df['Minimal price (gross) [PLN]'] <= budget) &\n",
    "            (self.df['Range (WLTP) [km]'] >= min_range) &\n",
    "            (self.df['Battery capacity [kWh]'] >= min_battery)\n",
    "        ]\n",
    "        return result[['Car full name', 'Make', 'Minimal price (gross) [PLN]', \n",
    "                       'Battery capacity [kWh]', 'Range (WLTP) [km]']].head(3)\n",
    "\n",
    "# Example:\n",
    "recommender = EVRecommender(df)\n",
    "recommender.recommend(300000, 350, 60)\n"
   ]
  },
  {
   "cell_type": "markdown",
   "id": "bb396fca",
   "metadata": {},
   "source": [
    "# 🔹 Task 5: Hypothesis Testing — Tesla vs Audi"
   ]
  },
  {
   "cell_type": "code",
   "execution_count": 11,
   "id": "3b771851",
   "metadata": {},
   "outputs": [
    {
     "name": "stdout",
     "output_type": "stream",
     "text": [
      "T-statistic: 1.7024444538261416\n",
      "P-value: 0.11672692675082785\n",
      "There is no statistically significant difference in engine power between Tesla and Audi.\n"
     ]
    }
   ],
   "source": [
    "# Extract Engine power [KM] for Tesla and Audi\n",
    "tesla_power = df[df['Make'] == 'Tesla']['Engine power [KM]'].dropna()\n",
    "audi_power = df[df['Make'] == 'Audi']['Engine power [KM]'].dropna()\n",
    "\n",
    "# Perform two-sample t-test\n",
    "t_stat, p_val = ttest_ind(tesla_power, audi_power)\n",
    "\n",
    "print(\"T-statistic:\", t_stat)\n",
    "print(\"P-value:\", p_val)\n",
    "\n",
    "# Interpretation\n",
    "if p_val < 0.05:\n",
    "    print(\"There is a statistically significant difference in engine power between Tesla and Audi.\")\n",
    "else:\n",
    "    print(\"There is no statistically significant difference in engine power between Tesla and Audi.\")\n"
   ]
  },
  {
   "cell_type": "code",
   "execution_count": null,
   "id": "5e0120b6",
   "metadata": {},
   "outputs": [],
   "source": []
  }
 ],
 "metadata": {
  "kernelspec": {
   "display_name": "Python 3 (ipykernel)",
   "language": "python",
   "name": "python3"
  },
  "language_info": {
   "codemirror_mode": {
    "name": "ipython",
    "version": 3
   },
   "file_extension": ".py",
   "mimetype": "text/x-python",
   "name": "python",
   "nbconvert_exporter": "python",
   "pygments_lexer": "ipython3",
   "version": "3.11.7"
  }
 },
 "nbformat": 4,
 "nbformat_minor": 5
}
